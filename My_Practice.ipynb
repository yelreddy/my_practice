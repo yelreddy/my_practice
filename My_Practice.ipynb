{
 "cells": [
  {
   "cell_type": "code",
   "execution_count": 87,
   "metadata": {},
   "outputs": [
    {
     "name": "stdout",
     "output_type": "stream",
     "text": [
      "enter first number:0\n",
      "enter second number:0\n",
      "enter third number0\n",
      "comparision with zero isn't possible\n"
     ]
    }
   ],
   "source": [
    "a=int(input(\"enter first number:\"))\n",
    "b= int(input(\"enter second number:\"))\n",
    "c= int(input(\"enter third number\"))\n",
    "if a|b|c==0:\n",
    "    print(\"comparision with zero isn't possible\")\n",
    "elif  a>b and a>c:\n",
    "    print(str(a) + \"is greater\")\n",
    "elif b>c:\n",
    "    print(str(b)+ \"is greater\")\n",
    "else:\n",
    "    print(str(c)+ \" is greater\")"
   ]
  },
  {
   "cell_type": "code",
   "execution_count": 61,
   "metadata": {},
   "outputs": [
    {
     "name": "stdout",
     "output_type": "stream",
     "text": [
      "enter your name:nani\n",
      "sorry nani your access is denied\n"
     ]
    }
   ],
   "source": [
    "name=input(\"enter your name:\")\n",
    "if name==\"krupa\":\n",
    "    print(\"hello \" + name + \" you are a valid user\")\n",
    "else:\n",
    "    print(\"sorry \"+ name + \" your access is denied\")"
   ]
  },
  {
   "cell_type": "code",
   "execution_count": 89,
   "metadata": {},
   "outputs": [
    {
     "name": "stdout",
     "output_type": "stream",
     "text": [
      "please enter your PIN:9110\n",
      "enter the amount to withdraw:300\n",
      "sorry you don't have enough balance\n"
     ]
    }
   ],
   "source": [
    "bal=200\n",
    "PIN=9110\n",
    "entered_pin=int(input(\"please enter your PIN:\"))\n",
    "if entered_pin==PIN:\n",
    "    amount=int(input(\"enter the amount to withdraw:\"))\n",
    "    if amount<=bal:\n",
    "        print(str(amount)+ \" withdraw is successful\")\n",
    "        bal=bal-amount\n",
    "        print(\"your current balance is \" + str(bal))\n",
    "    elif amount>bal:\n",
    "        print(\"sorry you don't have enough balance\")\n",
    "else:\n",
    "    print(\"PIN entered is wrong\")"
   ]
  },
  {
   "cell_type": "code",
   "execution_count": null,
   "metadata": {},
   "outputs": [],
   "source": []
  },
  {
   "cell_type": "code",
   "execution_count": null,
   "metadata": {},
   "outputs": [],
   "source": []
  }
 ],
 "metadata": {
  "kernelspec": {
   "display_name": "Python 3",
   "language": "python",
   "name": "python3"
  },
  "language_info": {
   "codemirror_mode": {
    "name": "ipython",
    "version": 3
   },
   "file_extension": ".py",
   "mimetype": "text/x-python",
   "name": "python",
   "nbconvert_exporter": "python",
   "pygments_lexer": "ipython3",
   "version": "3.7.0"
  }
 },
 "nbformat": 4,
 "nbformat_minor": 2
}
